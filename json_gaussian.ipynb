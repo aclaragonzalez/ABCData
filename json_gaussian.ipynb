{
  "cells": [
    {
      "cell_type": "markdown",
      "metadata": {
        "id": "view-in-github",
        "colab_type": "text"
      },
      "source": [
        "<a href=\"https://colab.research.google.com/github/aclaragonzalez/ABCData/blob/main/json_gaussian.ipynb\" target=\"_parent\"><img src=\"https://colab.research.google.com/assets/colab-badge.svg\" alt=\"Open In Colab\"/></a>"
      ]
    },
    {
      "cell_type": "markdown",
      "source": [
        "# Descrição do projeto\n",
        "O projeto consiste em uma extração de propriedades químicas de compostos a partir de arquivos de saída de dois softwares (Gaussian e Orca) utilizados na Química Computacional. A extração dessas propriedades visa reunir dados em uma base hospedada no MongoDB."
      ],
      "metadata": {
        "id": "yQ2eC3g-xZCE"
      },
      "id": "yQ2eC3g-xZCE"
    },
    {
      "cell_type": "markdown",
      "source": [
        "## Descrição dos arquivos de saída\n",
        "Os arquivos de saída dos softwares possuem formato .log ou .out. Já existe uma biblioteca, cclib, que extrai as propriedades químicas desses softwares. A biblioteca será utilizada no terminal para obter arquivos .json com os dados que serão limpos e organizados neste notebook.\n",
        "\n",
        "No terminal, o seguinte comando foi utilizado para arquivos .log:\n",
        "*   ccwrite json *.log\n",
        "\n",
        "Para arquivos .out:\n",
        "*   ccwrite json *.out\n"
      ],
      "metadata": {
        "id": "jJHsaGZzxkR3"
      },
      "id": "jJHsaGZzxkR3"
    },
    {
      "cell_type": "markdown",
      "source": [
        "## Código implementado"
      ],
      "metadata": {
        "id": "vmruNvufzSJ-"
      },
      "id": "vmruNvufzSJ-"
    },
    {
      "cell_type": "code",
      "execution_count": null,
      "id": "4f1ef6f0",
      "metadata": {
        "id": "4f1ef6f0"
      },
      "outputs": [],
      "source": [
        "import json\n",
        "import cclib\n",
        "import uuid\n",
        "from os import listdir\n",
        "from os.path import isfile, join, splitext\n",
        "import subprocess\n",
        "from subprocess import PIPE\n",
        "\n",
        "# user se refere ao autor do cálculo, class é a classe da molécula e solvent é o solvente utilizado no cálculo\n",
        "\n",
        "path = './user/solvent/class'\n",
        "\n",
        "id_list = []\n",
        "\n",
        "files = [f for f in listdir(path) if isfile(join(path, f))]\n",
        "\n",
        "for fname in files:\n",
        "    if fname.endswith('.log') or fname.endswith('.out'):        \n",
        "        with open(join(path,fname)) as f:\n",
        "            data = cclib.io.ccread(f)\n",
        "        \n",
        "        filename = splitext(fname)[0]\n",
        "        filename = filename + '.json'\n",
        "        \n",
        "        with open(join(path,filename)) as file:\n",
        "            # carrega o arquivo json\n",
        "            jdata = json.load(file)\n",
        "            \n",
        "            # adiciona um id para cada arquivo json\n",
        "            digits = 8\n",
        "            real_id = uuid.uuid4().int\n",
        "            str_id = str(real_id)\n",
        "            simple_id = str_id[:digits]\n",
        "            if simple_id in id_list:\n",
        "                real_id = uuid.uuid4().int\n",
        "                str_id = str(real_id)\n",
        "                simple_id = str_id[:digits]\n",
        "                jdata['_id'] = simple_id\n",
        "            else:\n",
        "                jdata['_id'] = simple_id\n",
        "                \n",
        "            # adiciona simple_id ao name\n",
        "            jdata['name'] = simple_id\n",
        "\n",
        "            # altera as coordenadas para uma matriz Nx3\n",
        "            coords = jdata['atoms']['coords']['3d']\n",
        "            jdata['atoms']['coords-3d'] = [coords[i:i+3] for i in range(0,len(coords),3)]\n",
        "            del jdata['atoms']['coords']\n",
        "\n",
        "            # deleta a key core electrons\n",
        "            del jdata['atoms']['core electrons']\n",
        "            \n",
        "            # tira o número de átomos da key atoms\n",
        "            atomcount = jdata['atoms']['elements']['atom count']\n",
        "            jdata['atom_count'] = atomcount\n",
        "            del jdata['atoms']['elements']['atom count']\n",
        "            \n",
        "            # tira o número de átomos pesados da key atoms\n",
        "            h_atomcount = jdata['atoms']['elements']['heavy atom count']\n",
        "            jdata['heavy_atom_count'] = h_atomcount\n",
        "            del jdata['atoms']['elements']['heavy atom count']\n",
        "            \n",
        "            # mudando o nome de uma key: adiciona a nova key com os valores da velha e apaga a velha\n",
        "            jdata['atoms']['elements']['atomic number'] = jdata['atoms']['elements']['number']\n",
        "            del jdata['atoms']['elements']['number']\n",
        "            \n",
        "            # muda a key momento de dipolo de lugar\n",
        "            dipole = jdata['properties']['total dipole moment']\n",
        "            jdata['dipole_moment'] = dipole\n",
        "            \n",
        "            # muda a key cargas de lugar\n",
        "            mulliken = jdata['properties']['partial charges']['mulliken']\n",
        "            jdata['partial charges'] = {'mulliken': mulliken}\n",
        "            \n",
        "            # muda a key orbitals de posição\n",
        "            orbitals = jdata['properties']['orbitals']\n",
        "            jdata['orbitals'] = orbitals\n",
        "            \n",
        "            #adiciona dados de energia\n",
        "            E_homo = float(data.moenergies[0][data.homos])\n",
        "            E_lumo = float(data.moenergies[0][data.homos + 1])\n",
        "            E_gap = E_homo - E_lumo\n",
        "            total_energy = jdata['properties']['energy']['total']\n",
        "            jdata['orbitals']['homo'] = E_homo\n",
        "            jdata['orbitals']['lumo'] = E_lumo\n",
        "            jdata['orbitals']['gap'] = E_gap\n",
        "            jdata['energy'] = {'total': total_energy}\n",
        "            \n",
        "            # adiciona dados do cálculo\n",
        "            info_calculation = data.metadata\n",
        "            method = info_calculation['methods'][0]\n",
        "            info_calculation['method'] = method\n",
        "            del info_calculation['methods']\n",
        "            jdata['calculation info'] = data.metadata\n",
        "                            \n",
        "            # adiciona dados extras\n",
        "            jdata['class'] = 'porphyrin'\n",
        "            jdata['authors'] = 'Ana Clara Gonzalez de Souza e Paula Homem de Mello'\n",
        "            jdata['calculation info']['solvent'] = 'tetrahydrofuran'\n",
        "            jdata['doi'] = 'somente para moléculas publicadas'\n",
        "            \n",
        "            # organizando properties\n",
        "            charge = jdata['properties']['charge']\n",
        "            jdata['calculation info']['charge'] = charge\n",
        "            \n",
        "            multiplicity = jdata['properties']['multiplicity']\n",
        "            jdata['calculation info']['multiplicity'] = multiplicity\n",
        "            \n",
        "            del jdata['properties']\n",
        "\n",
        "            # calculo do comprimento de onda referente às transições eletrônicas\n",
        "            nm_list = []\n",
        "\n",
        "            for i in jdata['transitions']['electronic transitions']:\n",
        "                nm = (1.98644582 * 10**-25)/(i*1.98630*10**-23)*10**9\n",
        "                nm = round(nm,2)\n",
        "                nm_list.append(nm)\n",
        "                jdata['transitions']['wavelengths'] = nm_list\n",
        "        \n",
        "        # atualiza todas as mudanças no arquivo json    \n",
        "        with open(join(path,filename), \"w\") as file:\n",
        "            json.dump(jdata, file, indent=4, sort_keys=True, default=str)"
      ]
    }
  ],
  "metadata": {
    "kernelspec": {
      "display_name": "Python 3 (ipykernel)",
      "language": "python",
      "name": "python3"
    },
    "language_info": {
      "codemirror_mode": {
        "name": "ipython",
        "version": 3
      },
      "file_extension": ".py",
      "mimetype": "text/x-python",
      "name": "python",
      "nbconvert_exporter": "python",
      "pygments_lexer": "ipython3",
      "version": "3.9.7"
    },
    "colab": {
      "name": "json-gaussian.ipynb",
      "provenance": [],
      "include_colab_link": true
    }
  },
  "nbformat": 4,
  "nbformat_minor": 5
}