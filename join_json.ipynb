{
  "nbformat": 4,
  "nbformat_minor": 0,
  "metadata": {
    "colab": {
      "name": "join_json.ipynb",
      "provenance": [],
      "authorship_tag": "ABX9TyNwc4ehuDxNy3WxFBocx4Rg",
      "include_colab_link": true
    },
    "kernelspec": {
      "name": "python3",
      "display_name": "Python 3"
    },
    "language_info": {
      "name": "python"
    }
  },
  "cells": [
    {
      "cell_type": "markdown",
      "metadata": {
        "id": "view-in-github",
        "colab_type": "text"
      },
      "source": [
        "<a href=\"https://colab.research.google.com/github/aclaragonzalez/ABCData/blob/main/join_json.ipynb\" target=\"_parent\"><img src=\"https://colab.research.google.com/assets/colab-badge.svg\" alt=\"Open In Colab\"/></a>"
      ]
    },
    {
      "cell_type": "markdown",
      "source": [
        "# Descrição do projeto\n",
        "O projeto consiste em uma extração de propriedades químicas de compostos a partir de arquivos de saída de dois softwares (Gaussian e Orca) utilizados na Química Computacional. A extração dessas propriedades visa reunir dados em uma base hospedada no MongoDB."
      ],
      "metadata": {
        "id": "YEaWyt4w1Qpf"
      }
    },
    {
      "cell_type": "markdown",
      "source": [
        "## Unificando os arquivos json\n",
        "\n",
        "O resultado da limpeza e organização dos dados obtidos com a biblioteca cclib resultou em 503 arquivos .json. Para facilitar o upload no MongoDB, esses arquivos foram unificados em um único arquivo .json."
      ],
      "metadata": {
        "id": "imNqUfki1WRk"
      }
    },
    {
      "cell_type": "code",
      "execution_count": null,
      "metadata": {
        "id": "xFrWskvI1O2K"
      },
      "outputs": [],
      "source": [
        "import json\n",
        "\n",
        "from os import listdir\n",
        "from os.path import isfile, join\n",
        "\n",
        "# json é uma pasta com todos os json gerados\n",
        "path = './json/'\n",
        "\n",
        "jsonfiles = [f for f in listdir(path) if isfile(join(path, f)) and f.endswith('.json')]\n",
        "\n",
        "all_jsons = []\n",
        "\n",
        "for fname in jsonfiles:\n",
        "    with open(join(path,fname)) as fi:\n",
        "        # carrega o arquivo json\n",
        "        try:\n",
        "            data = json.load(fi)\n",
        "            all_jsons.append(data)\n",
        "        except Exception as e:\n",
        "            print(fname, e)\n",
        "\n",
        "# gera arquivo com todos os json\n",
        "with open('molecules.json','w') as fo:\n",
        "    json.dump(all_jsons,fo,indent=4)"
      ]
    }
  ]
}